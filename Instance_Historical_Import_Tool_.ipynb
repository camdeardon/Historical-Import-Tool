{
 "cells": [
  {
   "cell_type": "markdown",
   "metadata": {
    "id": "DmeTLZHnz91v"
   },
   "source": [
    "![logo.svg](data:image/svg+xml;base64,PHN2ZyBpZD0iTG9nb19GQSIgZGF0YS1uYW1lPSJMb2dvIEZBIiB4bWxucz0iaHR0cDovL3d3dy53My5vcmcvMjAwMC9zdmciIHhtbG5zOnhsaW5rPSJodHRwOi8vd3d3LnczLm9yZy8xOTk5L3hsaW5rIiB3aWR0aD0iMTQyLjc0NiIgaGVpZ2h0PSI0MCIgdmlld0JveD0iMCAwIDE0Mi43NDYgNDAiPgogIDxkZWZzPgogICAgPGNsaXBQYXRoIGlkPSJjbGlwLXBhdGgiPgogICAgICA8cmVjdCBpZD0iUmVjdGFuZ2xlXzk2IiBkYXRhLW5hbWU9IlJlY3RhbmdsZSA5NiIgd2lkdGg9IjE0Mi43NDYiIGhlaWdodD0iNDAiIGZpbGw9Im5vbmUiLz4KICAgIDwvY2xpcFBhdGg+CiAgPC9kZWZzPgogIDxnIGlkPSJHcm91cF8yMjMzIiBkYXRhLW5hbWU9Ikdyb3VwIDIyMzMiIGNsaXAtcGF0aD0idXJsKCNjbGlwLXBhdGgpIj4KICAgIDxwYXRoIGlkPSJQYXRoXzkzNDUiIGRhdGEtbmFtZT0iUGF0aCA5MzQ1IiBkPSJNMjE1LjE4MSwzNC45MTZhMTAuMjg1LDEwLjI4NSwwLDAsMC04Ljc5MiwxNS41MzgsMy4yOSwzLjI5LDAsMCwxLTEuMjk0LDQuNS4yNzcuMjc3LDAsMCwwLC4xMzguNTIyLDEwLjIyOCwxMC4yMjgsMCwwLDAsNC44NTgtMS4zNywxMC4yODQsMTAuMjg0LDAsMSwwLDUuMDktMTkuMTkybS4wNzYsMTUuODcyYTUuNTg4LDUuNTg4LDAsMSwxLDUuNTg5LTUuNTg4LDUuNTk1LDUuNTk1LDAsMCwxLTUuNTg5LDUuNTg4IiB0cmFuc2Zvcm09InRyYW5zbGF0ZSgtMTU0LjUwNyAtMjYuMzIyKSIgZmlsbD0iIzAwYWE2MSIvPgogICAgPHBhdGggaWQ9IlBhdGhfOTM0NiIgZGF0YS1uYW1lPSJQYXRoIDkzNDYiIGQ9Ik0yNjAuNTQ3LDEyNS42YTUuMTg5LDUuMTg5LDAsMCwwLDcuNzgsNC40NTMsNS4xNiw1LjE2LDAsMCwwLDIuNDUxLjY5MS4xNC4xNCwwLDAsMCwuMDctLjI2MywxLjY2LDEuNjYsMCwwLDEtLjY1My0yLjI3Miw1LjE4OCw1LjE4OCwwLDEsMC05LjY0OC0yLjYxbTIuMzU0LS4wNDFhMi44MTksMi44MTksMCwxLDEsMi44MTksMi44MTksMi44MjMsMi44MjMsMCwwLDEtMi44MTktMi44MTkiIHRyYW5zZm9ybT0idHJhbnNsYXRlKC0xOTYuNDIzIC05MC43NDUpIiBmaWxsPSIjMDE3NTUxIi8+CiAgICA8cGF0aCBpZD0iUGF0aF85MzQ3IiBkYXRhLW5hbWU9IlBhdGggOTM0NyIgZD0iTTE4LjYsMjcuODA3SDcuNjE5TDUuMjM2LDM0LjAxOUgwTDEwLjc0NSw2LjY2OWg0LjY4OWwxMC43ODQsMjcuMzVIMjAuOTQzWm0tMS42OC00LjU3MkwxMy4wODksMTMuMTU1LDkuMywyMy4yMzVaIiB0cmFuc2Zvcm09InRyYW5zbGF0ZSgwIC01LjAyOCkiIGZpbGw9IiMyNDJiMjUiLz4KICAgIDxwYXRoIGlkPSJQYXRoXzkzNDgiIGRhdGEtbmFtZT0iUGF0aCA5MzQ4IiBkPSJNMTI2LjA1NCw1Ni44NzhsLTQuNjg5LTYuNDg2LTQuNzI4LDYuNDg2aC01Ljk3OGw3LjgxNS0xMC4xNTlMMTExLjA1LDM2Ljk5aDUuOTM5bDQuMzc2LDYuMDE3TDEyNS43LDM2Ljk5aDUuOTM5bC03LjQyNCw5LjcyOSw3LjgxNCwxMC4xNTlaIiB0cmFuc2Zvcm09InRyYW5zbGF0ZSgtODMuNDI0IC0yNy44ODcpIiBmaWxsPSIjMjQyYjI1Ii8+CiAgICA8cGF0aCBpZD0iUGF0aF85MzQ5IiBkYXRhLW5hbWU9IlBhdGggOTM0OSIgZD0iTTMxMC4xMjksMzUuNTU0djMuMDA5YTYuOTM4LDYuOTM4LDAsMCwxLDYuNDA4LTMuNDc4YzQuMTQyLDAsNy4wMzMsMi41LDcuMDMzLDcuMzA3djEzLjA1SDMxOC44VjQzLjQ0N2MwLTIuNy0xLjQ4NS00LjEtMy43OS00LjEtMi42MTgsMC00Ljc2NywxLjg3NS00Ljc2Nyw1LjQzMVY1NS40NDFoLTQuNzY3VjM1LjU1NFoiIHRyYW5zZm9ybT0idHJhbnNsYXRlKC0yMzAuMjk3IC0yNi40NSkiIGZpbGw9IiMyNDJiMjUiLz4KICAgIDxwYXRoIGlkPSJQYXRoXzkzNTAiIGRhdGEtbmFtZT0iUGF0aCA5MzUwIiBkPSJNNDA0LjAxOSwzLjEyNmEzLjIyNywzLjIyNywwLDAsMS02LjQ0NywwLDMuMjI1LDMuMjI1LDAsMCwxLDYuNDQ3LDBNMzk4LjM5Myw5LjFoNC43NjdWMjguOTkxaC00Ljc2N1oiIHRyYW5zZm9ybT0idHJhbnNsYXRlKC0yOTkuNzI0KSIgZmlsbD0iIzI0MmIyNSIvPgogICAgPHBhdGggaWQ9IlBhdGhfOTM1MSIgZGF0YS1uYW1lPSJQYXRoIDkzNTEiIGQ9Ik00NjYuNTU3LDEwLjU0djkuNjljMCwzLjQtMi4xMSw1LjQzMS00Ljg4NCw1LjQzMS0yLjQ2MiwwLTQuMS0xLjYtNC4xLTQuMzM3VjEwLjU0SDQ0NC4zNjJWOS4yNWEyLjczMSwyLjczMSwwLDAsMSwyLjkzLTMuMDA4LDQuMzMzLDQuMzMzLDAsMCwxLDIuODUyLDEuMDE2bDEuOTE0LTMuNjM0QTkuMDM1LDkuMDM1LDAsMCwwLDQ0Ni42NjgsMS45Yy00LjE0MiwwLTcuMDcyLDIuNy03LjA3Miw3LjM4NXYxLjI1aC0zLjc1MXY0LjNINDM5LjZ2MTUuNTloNC43NjdWMTQuODM4aDguNHY3LjM0NmMwLDUuMTU3LDMuNDM4LDcuNzM2LDcuNTQxLDcuNzM2LDIuODkyLDAsNS4yLTEuMjg5LDYuMjUyLTMuNDc3djMuNTk0YTQuODkyLDQuODkyLDAsMCwxLTUuMjM2LDUuMjc1LDUuNTE1LDUuNTE1LDAsMCwxLTUuNjI3LTQuMWwtNC4yMiwxLjkxNWMxLjQ4NSw0LjMsNS4xNTgsNi40ODYsOS43MjksNi40ODYsNS41MDksMCwxMC4xMi0zLjU1NSwxMC4xMi0xMC4xMlYxMC41NFoiIHRyYW5zZm9ybT0idHJhbnNsYXRlKC0zMjguNTc4IC0xLjQzNikiIGZpbGw9IiMyNDJiMjUiLz4KICA8L2c+Cjwvc3ZnPgo=)"
   ]
  },
  {
   "cell_type": "markdown",
   "metadata": {
    "id": "dSqP0KzF_cQO"
   },
   "source": [
    "\n",
    "---\n",
    "\n"
   ]
  },
  {
   "cell_type": "markdown",
   "metadata": {
    "id": "kzM1Yq2-CNi6",
    "jupyter": {
     "source_hidden": true
    },
    "tags": []
   },
   "source": [
    "The code below is a script example of a tool that is used will query an instance take records using the knowledge map API to create a data import record for use in instance consolidation or quickly grabbing data from one instance to put into another. \n",
    "\n",
    "This script will also work to fill out an Edcast import CSV and leverage the Axonify APIs to create Deeplinks in the Topic Sync function.\n",
    "\n",
    "This code will import the libraries that are required to run this script and store the records on your machine in a folder call \"Edcast_Axonify_connection\""
   ]
  },
  {
   "cell_type": "markdown",
   "metadata": {},
   "source": [
    "<div class=\"article-details__region article-details__region--content scrollable auto vertical\" style=\"width: 754.91px;\"><div class=\"page-wrapper parent-height\"><div class=\"page-content-notifications\">\n",
    "  <div class=\"scheduled-container\"></div>\n",
    "  <div class=\"agree-container\"></div>\n",
    "  <div class=\"reported-container\"></div>\n",
    "  <div class=\"inReview-container\"></div>\n",
    "  \n",
    "</div>\n",
    "<div id=\"page-content-view\">\n",
    "  <div id=\"page-container\" class=\"squire-editor fr-view full-width\"><h1 dir=\"ltr\" style=\"line-height:1.38;margin-top:20pt;margin-bottom:6pt;\"><span style=\"font-size:20pt;font-family:Arial;color:#000000;background-color:transparent;font-weight:400;font-style:normal;font-variant:normal;text-decoration:none;vertical-align:baseline;white-space:pre;white-space:pre-wrap;\">Deep Link URL Format - for Training&nbsp;</span></h1><h3 dir=\"ltr\" style=\"line-height:1.38;margin-top:16pt;margin-bottom:4pt;\"><span style=\"font-size:13.999999999999998pt;font-family:Arial;color:#434343;background-color:transparent;font-weight:700;font-style:normal;font-variant:normal;text-decoration:none;vertical-align:baseline;white-space:pre;white-space:pre-wrap;\">Example (for OAuth, SAML, Username/Password)</span><span style=\"font-size:13.999999999999998pt;font-family:Arial;color:#434343;background-color:transparent;font-weight:400;font-style:normal;font-variant:normal;text-decoration:none;vertical-align:baseline;white-space:pre;white-space:pre-wrap;\">:&nbsp;</span></h3><p dir=\"ltr\" style=\"line-height:1.38;margin-top:0pt;margin-bottom:0pt;\"><a href=\"https://grab.axonify.com/training/index.html\" style=\"text-decoration:none;\" target=\"_blank\"><span style=\"font-size:11pt;font-family:Consolas,sans-serif;color:#1155cc;background-color:transparent;font-weight:400;font-style:normal;font-variant:normal;text-decoration:underline;-webkit-text-decoration-skip:none;text-decoration-skip-ink:none;vertical-align:baseline;white-space:pre;white-space:pre-wrap;\">https://&lt;tenant&gt;.axonify.com/training/index.html</span></a><span style=\"font-size:11pt;font-family:Arial;color:#000000;background-color:transparent;font-weight:400;font-style:normal;font-variant:normal;text-decoration:none;vertical-align:baseline;white-space:pre;white-space:pre-wrap;\">#assessmentLink?topicId=1234</span></p><h3 dir=\"ltr\" style=\"line-height:1.38;margin-top:16pt;margin-bottom:4pt;\"><span style=\"font-size:13.999999999999998pt;font-family:Arial;color:#434343;background-color:transparent;font-weight:700;font-style:normal;font-variant:normal;text-decoration:none;vertical-align:baseline;white-space:pre;white-space:pre-wrap;\">Secure Url Example</span><span style=\"font-size:13.999999999999998pt;font-family:Arial;color:#434343;background-color:transparent;font-weight:400;font-style:normal;font-variant:normal;text-decoration:none;vertical-align:baseline;white-space:pre;white-space:pre-wrap;\">:&nbsp;</span></h3><p dir=\"ltr\" style=\"line-height:1.38;margin-top:0pt;margin-bottom:0pt;\"><a href=\"https://grab.axonify.com/training/index.html\" style=\"text-decoration:none;\" target=\"_blank\"><span style=\"font-size:11pt;font-family:Consolas,sans-serif;color:#1155cc;background-color:transparent;font-weight:400;font-style:normal;font-variant:normal;text-decoration:underline;-webkit-text-decoration-skip:none;text-decoration-skip-ink:none;vertical-align:baseline;white-space:pre;white-space:pre-wrap;\">https://&lt;tenant&gt;.axonify.com/training/index.html</span></a><span style=\"font-size:11pt;font-family:Arial;color:#000000;background-color:transparent;font-weight:400;font-style:normal;font-variant:normal;text-decoration:none;vertical-align:baseline;white-space:pre;white-space:pre-wrap;\">?timestamp=1541598197000&amp;employeeid=2&amp;authtoken=334afa579622674d25f8f9e484006648#assessmentLink?topicId=1234</span></p><h2 dir=\"ltr\" style=\"line-height:1.38;margin-top:18pt;margin-bottom:6pt;\"><span style=\"font-size:16pt;font-family:Arial;color:#000000;background-color:transparent;font-weight:400;font-style:normal;font-variant:normal;text-decoration:none;vertical-align:baseline;white-space:pre;white-space:pre-wrap;\">URL Structure</span></h2><p dir=\"ltr\" style=\"line-height:1.38;margin-top:0pt;margin-bottom:0pt;\"><span style=\"font-size:11pt;font-family:Arial;color:#000000;background-color:transparent;font-weight:400;font-style:normal;font-variant:normal;text-decoration:none;vertical-align:baseline;white-space:pre;white-space:pre-wrap;\">There are 3 parts to the URL structure if the tenant is configured to use OAuth, SAML, or Username/Password for authentication:</span></p><p dir=\"ltr\" style=\"line-height:1.38;margin-top:0pt;margin-bottom:0pt;\"><span style=\"font-size:11pt;font-family:Arial;color:#000000;background-color:transparent;font-weight:400;font-style:normal;font-variant:normal;text-decoration:none;vertical-align:baseline;white-space:pre;white-space:pre-wrap;\">&lt;</span><span style=\"font-size:11pt;font-family:Arial;color:#000000;background-color:transparent;font-weight:700;font-style:normal;font-variant:normal;text-decoration:none;vertical-align:baseline;white-space:pre;white-space:pre-wrap;\">Base URL</span><span style=\"font-size:11pt;font-family:Arial;color:#000000;background-color:transparent;font-weight:400;font-style:normal;font-variant:normal;text-decoration:none;vertical-align:baseline;white-space:pre;white-space:pre-wrap;\">&gt;#&lt;</span><span style=\"font-size:11pt;font-family:Arial;color:#000000;background-color:transparent;font-weight:700;font-style:normal;font-variant:normal;text-decoration:none;vertical-align:baseline;white-space:pre;white-space:pre-wrap;\">deep link hash</span><span style=\"font-size:11pt;font-family:Arial;color:#000000;background-color:transparent;font-weight:400;font-style:normal;font-variant:normal;text-decoration:none;vertical-align:baseline;white-space:pre;white-space:pre-wrap;\">&gt;?&lt;</span><span style=\"font-size:11pt;font-family:Arial;color:#000000;background-color:transparent;font-weight:700;font-style:normal;font-variant:normal;text-decoration:none;vertical-align:baseline;white-space:pre;white-space:pre-wrap;\">deep link parameters</span><span style=\"font-size:11pt;font-family:Arial;color:#000000;background-color:transparent;font-weight:400;font-style:normal;font-variant:normal;text-decoration:none;vertical-align:baseline;white-space:pre;white-space:pre-wrap;\">&gt;</span></p><p><br></p><p dir=\"ltr\" style=\"line-height:1.38;margin-top:0pt;margin-bottom:0pt;\"><span style=\"font-size:11pt;font-family:Arial;color:#000000;background-color:transparent;font-weight:400;font-style:normal;font-variant:normal;text-decoration:none;vertical-align:baseline;white-space:pre;white-space:pre-wrap;\">For “Secure URL” authentication there are 4 parts to the URL structure:</span></p><p dir=\"ltr\" style=\"line-height:1.38;margin-top:0pt;margin-bottom:0pt;\"><span style=\"font-size:11pt;font-family:Arial;color:#000000;background-color:transparent;font-weight:400;font-style:normal;font-variant:normal;text-decoration:none;vertical-align:baseline;white-space:pre;white-space:pre-wrap;\">&lt;</span><span style=\"font-size:11pt;font-family:Arial;color:#000000;background-color:transparent;font-weight:700;font-style:normal;font-variant:normal;text-decoration:none;vertical-align:baseline;white-space:pre;white-space:pre-wrap;\">Base URL</span><span style=\"font-size:11pt;font-family:Arial;color:#000000;background-color:transparent;font-weight:400;font-style:normal;font-variant:normal;text-decoration:none;vertical-align:baseline;white-space:pre;white-space:pre-wrap;\">&gt;?&lt;</span><span style=\"font-size:11pt;font-family:Arial;color:#000000;background-color:transparent;font-weight:700;font-style:normal;font-variant:normal;text-decoration:none;vertical-align:baseline;white-space:pre;white-space:pre-wrap;\">secure url query parameters</span><span style=\"font-size:11pt;font-family:Arial;color:#000000;background-color:transparent;font-weight:400;font-style:normal;font-variant:normal;text-decoration:none;vertical-align:baseline;white-space:pre;white-space:pre-wrap;\">&gt;#&lt;</span><span style=\"font-size:11pt;font-family:Arial;color:#000000;background-color:transparent;font-weight:700;font-style:normal;font-variant:normal;text-decoration:none;vertical-align:baseline;white-space:pre;white-space:pre-wrap;\">deep link hash</span><span style=\"font-size:11pt;font-family:Arial;color:#000000;background-color:transparent;font-weight:400;font-style:normal;font-variant:normal;text-decoration:none;vertical-align:baseline;white-space:pre;white-space:pre-wrap;\">&gt;?&lt;</span><span style=\"font-size:11pt;font-family:Arial;color:#000000;background-color:transparent;font-weight:700;font-style:normal;font-variant:normal;text-decoration:none;vertical-align:baseline;white-space:pre;white-space:pre-wrap;\">deep link parameters</span><span style=\"font-size:11pt;font-family:Arial;color:#000000;background-color:transparent;font-weight:400;font-style:normal;font-variant:normal;text-decoration:none;vertical-align:baseline;white-space:pre;white-space:pre-wrap;\">&gt;</span></p><h3 dir=\"ltr\" style=\"line-height:1.38;margin-top:16pt;margin-bottom:4pt;\"><span style=\"font-size:13.999999999999998pt;font-family:Arial;color:#434343;background-color:transparent;font-weight:400;font-style:normal;font-variant:normal;text-decoration:none;vertical-align:baseline;white-space:pre;white-space:pre-wrap;\">&lt;Base URL&gt;</span></h3><ul style=\"margin-top:0;margin-bottom:0;padding-inline-start:48px;\"><li dir=\"ltr\" style=\"list-style-type:disc;font-size:11pt;font-family:Consolas,sans-serif;color:#000000;background-color:transparent;font-weight:400;font-style:normal;font-variant:normal;text-decoration:none;vertical-align:baseline;white-space:pre;\"><p dir=\"ltr\" style=\"line-height:1.38;margin-top:0pt;margin-bottom:0pt;\"><a href=\"https://grab.axonify.com/training/index.html\" style=\"text-decoration:none;\" target=\"_blank\"><span style=\"font-size:11pt;font-family:Consolas,sans-serif;color:#1155cc;background-color:transparent;font-weight:400;font-style:normal;font-variant:normal;text-decoration:underline;-webkit-text-decoration-skip:none;text-decoration-skip-ink:none;vertical-align:baseline;white-space:pre;white-space:pre-wrap;\">https://&lt;tenant&gt;.axonify.com/training/index.html</span></a></p></li></ul><h3 dir=\"ltr\" style=\"line-height:1.38;margin-top:16pt;margin-bottom:4pt;\"><span style=\"font-size:13.999999999999998pt;font-family:Arial;color:#434343;background-color:transparent;font-weight:400;font-style:normal;font-variant:normal;text-decoration:none;vertical-align:baseline;white-space:pre;white-space:pre-wrap;\">&lt;secure url query parameters&gt;</span></h3><ul style=\"margin-top:0;margin-bottom:0;padding-inline-start:48px;\"><li dir=\"ltr\" style=\"list-style-type:disc;font-size:11pt;font-family:Arial;color:#000000;background-color:transparent;font-weight:400;font-style:normal;font-variant:normal;text-decoration:none;vertical-align:baseline;white-space:pre;\"><p dir=\"ltr\" style=\"line-height:1.38;margin-top:0pt;margin-bottom:0pt;\"><span style=\"font-size:11pt;font-family:Arial;color:#000000;background-color:transparent;font-weight:400;font-style:normal;font-variant:normal;text-decoration:none;vertical-align:baseline;white-space:pre;white-space:pre-wrap;\">Required only is authenticating VIA Secure URL</span></p></li><li dir=\"ltr\" style=\"list-style-type:disc;font-size:11pt;font-family:Arial;color:#000000;background-color:transparent;font-weight:400;font-style:normal;font-variant:normal;text-decoration:none;vertical-align:baseline;white-space:pre;\"><p dir=\"ltr\" style=\"line-height:1.38;margin-top:0pt;margin-bottom:0pt;\"><span style=\"font-size:11pt;font-family:Arial;color:#000000;background-color:transparent;font-weight:400;font-style:normal;font-variant:normal;text-decoration:none;vertical-align:baseline;white-space:pre;white-space:pre-wrap;\">See secure url spec for details</span></p></li></ul><h3 dir=\"ltr\" style=\"line-height:1.38;margin-top:16pt;margin-bottom:4pt;\"><span style=\"font-size:13.999999999999998pt;font-family:Arial;color:#434343;background-color:transparent;font-weight:400;font-style:normal;font-variant:normal;text-decoration:none;vertical-align:baseline;white-space:pre;white-space:pre-wrap;\">&lt;deep link hash&gt;</span></h3><ul style=\"margin-top:0;margin-bottom:0;padding-inline-start:48px;\"><li dir=\"ltr\" style=\"list-style-type:disc;font-size:11pt;font-family:Arial;color:#000000;background-color:transparent;font-weight:400;font-style:normal;font-variant:normal;text-decoration:none;vertical-align:baseline;white-space:pre;\"><p dir=\"ltr\" style=\"line-height:1.38;margin-top:0pt;margin-bottom:0pt;\"><span style=\"font-size:11pt;font-family:Arial;color:#000000;background-color:transparent;font-weight:400;font-style:normal;font-variant:normal;text-decoration:none;vertical-align:baseline;white-space:pre;white-space:pre-wrap;\">assessmentLink</span></p></li></ul><h3 dir=\"ltr\" style=\"line-height:1.38;margin-top:16pt;margin-bottom:4pt;\"><span style=\"font-size:13.999999999999998pt;font-family:Arial;color:#434343;background-color:transparent;font-weight:400;font-style:normal;font-variant:normal;text-decoration:none;vertical-align:baseline;white-space:pre;white-space:pre-wrap;\">&lt;deep link parameters&gt;</span></h3><ul style=\"margin-top:0;margin-bottom:0;padding-inline-start:48px;\"><li dir=\"ltr\" style=\"list-style-type:disc;font-size:11pt;font-family:Consolas,sans-serif;color:#000000;background-color:transparent;font-weight:400;font-style:normal;font-variant:normal;text-decoration:none;vertical-align:baseline;white-space:pre;\"><p dir=\"ltr\" style=\"line-height:1.38;margin-top:0pt;margin-bottom:0pt;\"><span style=\"font-size:11pt;font-family:Consolas,sans-serif;color:#000000;background-color:transparent;font-weight:400;font-style:normal;font-variant:normal;text-decoration:none;vertical-align:baseline;white-space:pre;white-space:pre-wrap;\">?topicId=&lt;Axonify topic id&gt;</span></p></li><li dir=\"ltr\" style=\"list-style-type:disc;font-size:11pt;font-family:Consolas,sans-serif;color:#000000;background-color:transparent;font-weight:400;font-style:normal;font-variant:normal;text-decoration:none;vertical-align:baseline;white-space:pre;\"><p dir=\"ltr\" style=\"line-height:1.38;margin-top:0pt;margin-bottom:0pt;\"><span style=\"font-size:11pt;font-family:Consolas,sans-serif;color:#000000;background-color:transparent;font-weight:400;font-style:normal;font-variant:normal;text-decoration:none;vertical-align:baseline;white-space:pre;white-space:pre-wrap;\">&amp;level=&lt;topic level number&gt;</span></p></li><li dir=\"ltr\" style=\"list-style-type:disc;font-size:11pt;font-family:Consolas,sans-serif;color:#000000;background-color:transparent;font-weight:400;font-style:normal;font-variant:normal;text-decoration:none;vertical-align:baseline;white-space:pre;\"><p dir=\"ltr\" style=\"line-height:1.38;margin-top:0pt;margin-bottom:0pt;\"><span style=\"font-size:11pt;font-family:Consolas,sans-serif;color:#000000;background-color:transparent;font-weight:400;font-style:normal;font-variant:normal;text-decoration:none;vertical-align:baseline;white-space:pre;white-space:pre-wrap;\">&amp;assessmentType=IntroductoryTraining</span></p></li><li dir=\"ltr\" style=\"list-style-type:disc;font-size:11pt;font-family:Consolas,sans-serif;color:#000000;background-color:transparent;font-weight:400;font-style:normal;font-variant:normal;text-decoration:none;vertical-align:baseline;white-space:pre;\"><p dir=\"ltr\" style=\"line-height:1.38;margin-top:0pt;margin-bottom:0pt;\"><span style=\"font-size:11pt;font-family:Consolas,sans-serif;color:#000000;background-color:transparent;font-weight:400;font-style:normal;font-variant:normal;text-decoration:none;vertical-align:baseline;white-space:pre;white-space:pre-wrap;\">&amp;programId=&lt;Axonify program id&gt;</span></p></li></ul><h4 dir=\"ltr\" style=\"line-height:1.38;margin-top:14pt;margin-bottom:4pt;\"><span style=\"font-size:12pt;font-family:Arial;color:#666666;background-color:transparent;font-weight:400;font-style:normal;font-variant:normal;text-decoration:none;vertical-align:baseline;white-space:pre;white-space:pre-wrap;\">Required Query Parameters</span></h4><ul style=\"margin-top:0;margin-bottom:0;padding-inline-start:48px;\"><li dir=\"ltr\" style=\"list-style-type:disc;font-size:11pt;font-family:Arial;color:#222222;background-color:transparent;font-weight:400;font-style:normal;font-variant:normal;text-decoration:none;vertical-align:baseline;white-space:pre;\"><p dir=\"ltr\" style=\"line-height:1.38;margin-top:0pt;margin-bottom:0pt;\"><span style=\"font-size:11pt;font-family:Consolas,sans-serif;color:#222222;background-color:transparent;font-weight:700;font-style:normal;font-variant:normal;text-decoration:none;vertical-align:baseline;white-space:pre;white-space:pre-wrap;\">topicId</span><span style=\"font-size:11pt;font-family:Arial;color:#222222;background-color:transparent;font-weight:400;font-style:normal;font-variant:normal;text-decoration:none;vertical-align:baseline;white-space:pre;white-space:pre-wrap;\">&nbsp;(int) - the value corresponding to the Axonify id for this topic</span></p></li></ul><h4 dir=\"ltr\" style=\"line-height:1.38;margin-top:14pt;margin-bottom:4pt;\"><span style=\"font-size:12pt;font-family:Arial;color:#666666;background-color:transparent;font-weight:400;font-style:normal;font-variant:normal;text-decoration:none;vertical-align:baseline;white-space:pre;white-space:pre-wrap;\">Optional Query Parameters</span></h4><ul style=\"margin-top:0;margin-bottom:0;padding-inline-start:48px;\"><li dir=\"ltr\" style=\"list-style-type:disc;font-size:11pt;font-family:Arial;color:#222222;background-color:transparent;font-weight:400;font-style:normal;font-variant:normal;text-decoration:none;vertical-align:baseline;white-space:pre;\"><p dir=\"ltr\" style=\"line-height:1.38;margin-top:0pt;margin-bottom:0pt;\"><span style=\"font-size:11pt;font-family:Consolas,sans-serif;color:#222222;background-color:transparent;font-weight:700;font-style:normal;font-variant:normal;text-decoration:none;vertical-align:baseline;white-space:pre;white-space:pre-wrap;\">assessmentType</span><span style=\"font-size:11pt;font-family:Arial;color:#222222;background-color:transparent;font-weight:400;font-style:normal;font-variant:normal;text-decoration:none;vertical-align:baseline;white-space:pre;white-space:pre-wrap;\">&nbsp;(string) - currently the only value accepted is&nbsp;</span><span style=\"font-size:11pt;font-family:Consolas,sans-serif;color:#222222;background-color:transparent;font-weight:400;font-style:normal;font-variant:normal;text-decoration:none;vertical-align:baseline;white-space:pre;white-space:pre-wrap;\">“IntroductoryTraining”</span><span style=\"font-size:11pt;font-family:Arial;color:#222222;background-color:transparent;font-weight:400;font-style:normal;font-variant:normal;text-decoration:none;vertical-align:baseline;white-space:pre;white-space:pre-wrap;\">&nbsp;this is the type of assessment that is requested, not the one that’s guaranteed to be delivered to the user. E.g. If a user has already completed the Introductory Training on this topic they will get a different assessment type. &nbsp;Default:&nbsp;</span><span style=\"font-size:11pt;font-family:Consolas,sans-serif;color:#222222;background-color:transparent;font-weight:400;font-style:normal;font-variant:normal;text-decoration:none;vertical-align:baseline;white-space:pre;white-space:pre-wrap;\">“IntroductoryTraining”</span></p></li><li dir=\"ltr\" style=\"list-style-type:disc;font-size:11pt;font-family:Arial;color:#222222;background-color:transparent;font-weight:400;font-style:normal;font-variant:normal;text-decoration:none;vertical-align:baseline;white-space:pre;\"><p dir=\"ltr\" style=\"line-height:1.38;margin-top:0pt;margin-bottom:0pt;\"><span style=\"font-size:11pt;font-family:Consolas,sans-serif;color:#222222;background-color:transparent;font-weight:700;font-style:normal;font-variant:normal;text-decoration:none;vertical-align:baseline;white-space:pre;white-space:pre-wrap;\">level</span><span style=\"font-size:11pt;font-family:Arial;color:#222222;background-color:transparent;font-weight:400;font-style:normal;font-variant:normal;text-decoration:none;vertical-align:baseline;white-space:pre;white-space:pre-wrap;\">&nbsp;(int) - the value corresponding to the “level” of the topic in the Axonify system. Default:&nbsp;</span><span style=\"font-size:11pt;font-family:Consolas,sans-serif;color:#222222;background-color:transparent;font-weight:400;font-style:normal;font-variant:normal;text-decoration:none;vertical-align:baseline;white-space:pre;white-space:pre-wrap;\">1</span></p></li><li dir=\"ltr\" style=\"list-style-type:disc;font-size:11pt;font-family:Arial;color:#222222;background-color:transparent;font-weight:400;font-style:normal;font-variant:normal;text-decoration:none;vertical-align:baseline;white-space:pre;\"><p dir=\"ltr\" style=\"line-height:1.38;margin-top:0pt;margin-bottom:0pt;\"><span style=\"font-size:11pt;font-family:Consolas,sans-serif;color:#222222;background-color:transparent;font-weight:700;font-style:normal;font-variant:normal;text-decoration:none;vertical-align:baseline;white-space:pre;white-space:pre-wrap;\">programId</span><span style=\"font-size:11pt;font-family:Arial;color:#222222;background-color:transparent;font-weight:400;font-style:normal;font-variant:normal;text-decoration:none;vertical-align:baseline;white-space:pre;white-space:pre-wrap;\">&nbsp;(int) - this is used to determine the “points” that will be earned for completing the assessment; also will be taken into account in the case a user is to complete multiple assessments on different topics in this program. Default: &lt;none&gt;</span></p></li></ul><h4 dir=\"ltr\" style=\"line-height:1.38;margin-top:14pt;margin-bottom:4pt;\"><span style=\"font-size:12pt;font-family:Arial;color:#666666;background-color:transparent;font-weight:400;font-style:normal;font-variant:normal;text-decoration:none;vertical-align:baseline;white-space:pre;white-space:pre-wrap;\">Additional Details</span></h4><p dir=\"ltr\" style=\"line-height:1.38;margin-top:0pt;margin-bottom:0pt;\"><span style=\"font-size:11pt;font-family:Arial;color:#000000;background-color:transparent;font-weight:400;font-style:normal;font-variant:normal;text-decoration:none;vertical-align:baseline;white-space:pre;white-space:pre-wrap;\">The query parameters for deep linking to Training are defined in the “hash” of the URL, not in the “search” query parameters.</span></p></div>\n",
    "  "
   ]
  },
  {
   "cell_type": "markdown",
   "metadata": {
    "id": "gUqhXOe6EMXu",
    "tags": []
   },
   "source": [
    "## Imports"
   ]
  },
  {
   "cell_type": "code",
   "execution_count": null,
   "metadata": {},
   "outputs": [],
   "source": [
    "!pip install --user -U nltk"
   ]
  },
  {
   "cell_type": "code",
   "execution_count": 16,
   "metadata": {
    "id": "xf8roFvaOCJd"
   },
   "outputs": [
    {
     "name": "stderr",
     "output_type": "stream",
     "text": [
      "[nltk_data] Downloading package stopwords to\n",
      "[nltk_data]     /Users/camdeardon/nltk_data...\n",
      "[nltk_data]   Package stopwords is already up-to-date!\n",
      "[nltk_data] Downloading package punkt to\n",
      "[nltk_data]     /Users/camdeardon/nltk_data...\n",
      "[nltk_data]   Package punkt is already up-to-date!\n"
     ]
    },
    {
     "data": {
      "text/plain": [
       "True"
      ]
     },
     "execution_count": 16,
     "metadata": {},
     "output_type": "execute_result"
    }
   ],
   "source": [
    "# Data manipulation libraries\n",
    "import numpy as np\n",
    "import pandas as pd\n",
    "\n",
    "# API calling libraries\n",
    "import json\n",
    "from datetime import datetime\n",
    "import requests\n",
    "from tqdm import tqdm, trange\n",
    "\n",
    "\n",
    "# Libraries to save files\n",
    "import os\n",
    "from os import path\n",
    "import getpass\n",
    "\n",
    "\n",
    "\n",
    "# Natural Language processing libraries\n",
    "import nltk\n",
    "from nltk.corpus import stopwords\n",
    "from nltk.tokenize import word_tokenize\n",
    "nltk.download('stopwords')\n",
    "nltk.download('punkt')"
   ]
  },
  {
   "cell_type": "markdown",
   "metadata": {
    "id": "f5xfrzdCEQZN"
   },
   "source": [
    "## Provide a list of users with of the learning records you'd like to retrieve. "
   ]
  },
  {
   "cell_type": "markdown",
   "metadata": {},
   "source": [
    "The script will iterate through the users, calling the GET knowledgeMap API to retrieve the data for each user."
   ]
  },
  {
   "cell_type": "code",
   "execution_count": 41,
   "metadata": {
    "colab": {
     "base_uri": "https://localhost:8080/",
     "height": 74
    },
    "id": "mNHSYgBpa0R7",
    "outputId": "1bc7a47a-810f-47f1-a8e6-737e3a76a620"
   },
   "outputs": [],
   "source": [
    "# Provide a list of users with of the learning records you'd like to retrieve. \n",
    "users = ['Pursuit_Content Catalogue Sync_AUWC'\\\n",
    "         ,'Pursuit_Content Catalogue Sync_CDNCC'\\\n",
    "         ,'Pursuit_Content Catalogue Sync_GBSD'\\\n",
    "         ,'Pursuit_Content Catalogue Sync_GFS'\\\n",
    "         ,'Pursuit_Content Catalogue Sync_GWAMFS'\\\n",
    "         ,'Pursuit_Content Catalogue Sync_GWAMRL'\\\n",
    "         ,'Pursuit_Content Catalogue Sync_MFS']"
   ]
  },
  {
   "cell_type": "markdown",
   "metadata": {
    "id": "0vUBKA3UEfiB",
    "tags": []
   },
   "source": [
    "## Get topic_sync function is created"
   ]
  },
  {
   "cell_type": "markdown",
   "metadata": {
    "id": "oRUtb5EZA5cf"
   },
   "source": [
    "\n",
    "\n",
    "---\n",
    "\n",
    "\n",
    "This function will make the files, and create a folder within the folder \"Edcast_Axonify_connection, that now should be created on your desktop, containing the name of the instance. It will fill in the CSV provided by Edcast\n",
    "\n",
    "\n",
    "\n",
    "\n",
    "\n",
    "---\n",
    "\n",
    "\n",
    "\n"
   ]
  },
  {
   "cell_type": "code",
   "execution_count": 17,
   "metadata": {
    "id": "9hpHRaibOLTu"
   },
   "outputs": [],
   "source": [
    "# This grabs the time and saves it as a string for use later on.\n",
    "today = datetime.now().strftime(\"%Y%m%d\")\n",
    "folder_today = datetime.now().strftime('%d - %B - %Y')\n",
    "today_seconds = datetime.now().strftime(\"%Y%m%d%H%M%S\")\n",
    "username = getpass.getuser()"
   ]
  },
  {
   "cell_type": "code",
   "execution_count": 58,
   "metadata": {
    "id": "sr-U5A5tE30L"
   },
   "outputs": [],
   "source": [
    "# This text will extract topic names, and remove stopwords for use in extracting key words\n",
    "\n",
    "stop_words = set(stopwords.words('english'))\n",
    "\n",
    "def remove_stop_words(text):\n",
    "    tokens = word_tokenize(text)\n",
    "    filtered_tokens = [token for token in tokens if not token.lower() in stop_words]\n",
    "    filtered_text = ' '.join(filtered_tokens)\n",
    "    return filtered_text"
   ]
  },
  {
   "cell_type": "code",
   "execution_count": 50,
   "metadata": {
    "id": "UkmE6jklRNdY"
   },
   "outputs": [],
   "source": [
    "def topic_sync(instance,users,api_key,date):\n",
    "    #Create empty lists to store user data in.\n",
    "    topic_data = []\n",
    "    subject_data = []\n",
    "    category_data = []\n",
    "    intro_data = []\n",
    "    not_found_users = []\n",
    "\n",
    "    \n",
    "    # This will check to see if you have a folder for the particular instance, and if you do not it will create one.\n",
    "    instance_path = f'/Users/{username}/Desktop/Edcast_Axonify_connection/{folder_today}/{instance}'\n",
    "    if not os.path.exists(instance_path):\n",
    "        \n",
    "        # create the folder for storing the CSV records\n",
    "        os.makedirs(instance_path)\n",
    "        print(f'Folder {instance_path} created.')\n",
    "    else:\n",
    "        print(f'Folder {instance_path} already exists.')\n",
    "\n",
    "\n",
    "    # iterate through users and grab the knowledge map using the Knowledge Map API\n",
    "    # In order to use the API the data needs to be parsed from the response. \n",
    "    \n",
    "    for user in tqdm(users,desc = 'Record Calls', unit = 'User Knowledge Maps Receieved'):\n",
    "        try:\n",
    "            # Call the knowledgemap API calling in the variables for user, instance and provide an API token.\n",
    "            knowledge_map = f\"https://{instance}/axonify/api/v2/users/{user}/knowledgemap?api_token={api_key}\"\n",
    "            knowledge_map_data = requests.get(knowledge_map).json()\n",
    "            \n",
    "            # Split the response into the API into the employeeId and knowledgeRecords\n",
    "            employeeId = knowledge_map_data['employeeId']\n",
    "            knowledgeRecords = knowledge_map_data['knowledgeRecords']\n",
    "            \n",
    "            # Optional, this will print out for logging purposes.\n",
    "            #print(f'EmployeeID: {user} Knowledge Map Retrieved')\n",
    "            \n",
    "\n",
    "        # iterate through the knowledgeRecords, collecting the data for each record.\n",
    "        \n",
    "            for record in knowledgeRecords:\n",
    "                # extract the values for topicExternalId, level, topicGraduationTimestamp, totalAnswerCount and correctAnswerCount\n",
    "                categoryExternalId = record['topicDetails']['categoryExternalId']\n",
    "                categoryName = record['topicDetails']['categoryName']    \n",
    "                topicExternalId = record['topicDetails']['topicExternalId']\n",
    "                topicName = record['topicDetails']['topicName']\n",
    "                subjectExternalId = record['topicDetails']['subjectExternalId']\n",
    "                topicInternalId = record['topicDetails']['topicId']\n",
    "                subjectName = record['topicDetails']['subjectName']\n",
    "                level = record['topicDetails']['level']\n",
    "                topicGraduationTimestamp = record['topicGraduationTimestamp']\n",
    "                correctAnswerCount = record['overallMetrics']['correctAnswerCount']\n",
    "                totalAnswerCount = record['overallMetrics']['totalAnswerCount']\n",
    "                introductoryStatus = record['introductoryStatus']\n",
    "                \n",
    "                # Add records to the topic data array\n",
    "                topic_data.append([employeeId, topicExternalId,topicName, level,topicInternalId ])\n",
    "             \n",
    "        except:\n",
    "            not_found_users.append(user)\n",
    "            pass\n",
    "            #print(f'User {user} not found')\n",
    "            #not_found_users.append(user)\n",
    "\n",
    "    # Create a dataframe from the data lists with the columns of 'Employee_ID', 'Topic_External_ID', 'Topic_Name','Difficulty_Level','Internal_Id'\n",
    "    \n",
    "    # This data can now be parsed to create deep links into individual topics.\n",
    "    # This function exports this dataframe as a csv\n",
    "    \n",
    "    topic_df = pd.DataFrame(topic_data, columns=['Employee_ID', 'Topic_External_ID', 'Topic_Name','Difficulty_Level','Internal_Id'])\n",
    "\n",
    "\n",
    "    # Ed_Cast Template. This code will provide deep links to topics.\n",
    "    # Deep link base URL\n",
    "    base_url = f'https://{instance}/training/index.html#assessmentLink?topicId='\n",
    "    \n",
    "    # Use the difficulty level, topic internal id in conjunction with the base URL to create topic deep links.\n",
    "    topic_df['Topic_Deep_Link'] = topic_df.apply(lambda row: base_url + str(row['Internal_Id']) + '&level=' + str(row['Difficulty_Level']), axis=1)\n",
    "    \n",
    "    ed_cast_template = topic_df[['Topic_External_ID','Topic_Name','Topic_Deep_Link','Difficulty_Level']]\n",
    "    \n",
    "    ed_cast_template['description'] = \"\"\n",
    "    ed_cast_template['image_url'] = \"\"\n",
    "    ed_cast_template['Topic_Name'] = ed_cast_template['Topic_Name'].apply(remove_stop_words)\n",
    "    ed_cast_template['keywords'] = topic_df['Topic_Name'].str.replace(\" \",\",\")\n",
    "    ed_cast_template['duration'] = \"\"\n",
    "    ed_cast_template['archive'] = \"\"\n",
    "    ed_cast_template['language'] = 'en'\n",
    "    ed_cast_template['content_type'] = \"course\"\n",
    "    ed_cast_template['providor_name'] = 'Axonify'\n",
    "\n",
    "    # Rename the columns to match the requirements for Edcast.\n",
    "    ed_cast_template = ed_cast_template.rename(columns = {'Topic_External_Id':'id','Topic_Name':'title','Topic_Deep_Link':'deeplink_url'})\n",
    "    ed_cast_template['Topic_Name'] = ed_cast_template.apply(lambda row: row['title'] + ' - Level ' + str(row['Difficulty_Level']), axis=1)\n",
    "    ed_cast_template['title'] = ed_cast_template['Topic_Name']\n",
    "    ed_cast_template = ed_cast_template.drop(columns = ['Topic_Name','Difficulty_Level'])\n",
    "    \n",
    "\n",
    "    # Export the dataframes to a CSV file\n",
    "    ed_cast_template.to_csv(f'{instance_path}/{instance}_Edcast_Template_{today_seconds}.csv',index = False)\n",
    "    topic_df.to_csv(f'{instance_path}/{instance}_Assigned_Knowledge_Map_{today_seconds}.csv',index = False)\n",
    "\n",
    "    return ed_cast_template, topic_df"
   ]
  },
  {
   "cell_type": "markdown",
   "metadata": {
    "id": "MC1__OwCEVVJ"
   },
   "source": [
    "# Pass in API Key / Instance URL"
   ]
  },
  {
   "cell_type": "markdown",
   "metadata": {
    "id": "BSKsoiv6AvJp"
   },
   "source": [
    "\n",
    "\n",
    "---\n",
    "\n",
    "\n",
    "This code is where you can specific your API key and your instance name. Change the strings below to the relavent information, taking care to keep the information between quotation marks like below. \n",
    "\n",
    "\n",
    "\n",
    "---\n",
    "\n"
   ]
  },
  {
   "cell_type": "code",
   "execution_count": 63,
   "metadata": {
    "colab": {
     "base_uri": "https://localhost:8080/"
    },
    "id": "cYNaSIvuDPVU",
    "outputId": "1bce0bfd-7281-464b-d597-68bb60be3d53"
   },
   "outputs": [],
   "source": [
    "instance = 'mfc.axonify.com'"
   ]
  },
  {
   "cell_type": "code",
   "execution_count": 59,
   "metadata": {
    "colab": {
     "base_uri": "https://localhost:8080/"
    },
    "id": "HGbGY9HFDEVq",
    "outputId": "9040c8f5-ddfd-4b42-d01f-a8e644baf5b1"
   },
   "outputs": [],
   "source": [
    "api_token = ''"
   ]
  },
  {
   "cell_type": "markdown",
   "metadata": {
    "id": "cemqqcOhElCH"
   },
   "source": [
    "# Get knowledge records function is called"
   ]
  },
  {
   "cell_type": "markdown",
   "metadata": {
    "id": "AlMQ3GquBOGp"
   },
   "source": [
    "\n",
    "---\n",
    "\n",
    "\n",
    "This code below will call the function, where you give it the string names of your input variables. For simplicity don't change this, just replace the USER file,instance url and API token and the rest should work.\n",
    "\n",
    "---\n",
    "\n",
    "\n"
   ]
  },
  {
   "cell_type": "code",
   "execution_count": null,
   "metadata": {
    "id": "-cbBYQObOQMx"
   },
   "outputs": [
    {
     "name": "stdout",
     "output_type": "stream",
     "text": [
      "Folder /Users/camdeardon/Desktop/Edcast_Axonify_connection/20 - April - 2023/demo-cdeardon.axonify.com created.\n"
     ]
    },
    {
     "name": "stderr",
     "output_type": "stream",
     "text": [
      "Record Calls: 100%|██████████| 1/1 [00:00<00:00,  1.50User Knowledge Maps Receieved/s]\n",
      "/var/folders/52/czmwl9tx0l7c7pbfsys0n1rm0000gp/T/ipykernel_86386/3185553447.py:81: SettingWithCopyWarning: \n",
      "A value is trying to be set on a copy of a slice from a DataFrame.\n",
      "Try using .loc[row_indexer,col_indexer] = value instead\n",
      "\n",
      "See the caveats in the documentation: https://pandas.pydata.org/pandas-docs/stable/user_guide/indexing.html#returning-a-view-versus-a-copy\n",
      "  ed_cast_template.loc[:, 'description'] = \"\"\n"
     ]
    }
   ],
   "source": [
    "records = topic_sync(instance,users,api_token,today_seconds)"
   ]
  },
  {
   "cell_type": "code",
   "execution_count": null,
   "metadata": {},
   "outputs": [],
   "source": []
  }
 ],
 "metadata": {
  "accelerator": "GPU",
  "colab": {
   "provenance": []
  },
  "gpuClass": "standard",
  "kernelspec": {
   "display_name": "Python 3 (ipykernel)",
   "language": "python",
   "name": "python3"
  },
  "language_info": {
   "codemirror_mode": {
    "name": "ipython",
    "version": 3
   },
   "file_extension": ".py",
   "mimetype": "text/x-python",
   "name": "python",
   "nbconvert_exporter": "python",
   "pygments_lexer": "ipython3",
   "version": "3.9.15"
  }
 },
 "nbformat": 4,
 "nbformat_minor": 4
}
